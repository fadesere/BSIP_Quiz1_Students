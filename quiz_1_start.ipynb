{
 "cells": [
  {
   "cell_type": "code",
   "execution_count": 138,
   "metadata": {},
   "outputs": [],
   "source": [
    "import thinkplot\n",
    "import thinkstats2\n",
    "import pandas as pd\n",
    "import numpy as np\n",
    "import seaborn as sns"
   ]
  },
  {
   "cell_type": "markdown",
   "metadata": {},
   "source": [
    "## Quiz 1\n",
    "\n",
    "Use this file as a starting point for your work. You are free to add/import any other libaries that you may want, though you shouldn't need much more, if anything. \n",
    "\n",
    "There are multiple approaches to solve each of the challenges. It is probably easiest to create a function that calculates a generic version of a solution, then takes in arguments for which data to use. There is an example of one of the functions I used to make a solution below. \n",
    "\n",
    "Please push you finished work into a repository on your github and paste the link in the final question. The responses on Moodle are what is graded, but your code will be glanced at to ensure you actually did the work and didn't do the calculations somewhere else. "
   ]
  },
  {
   "cell_type": "markdown",
   "metadata": {},
   "source": [
    "df_Races = df.groupby(\"Races\")\n",
    "df_MaritalStatus = df.groupby(\"MaritalStatus\")\n",
    "df_Education = df.groupby(\"Eduacation\")\n",
    "df_Nodeg = df.groupby(\"Nodeg\")"
   ]
  },
  {
   "cell_type": "markdown",
   "metadata": {},
   "source": [
    "### Example Function"
   ]
  },
  {
   "cell_type": "code",
   "execution_count": 139,
   "metadata": {},
   "outputs": [],
   "source": [
    "# Here is the framework of my function for the first set of challenges\n",
    "\n",
    "#def rangeMag(df_in, columnName):\n",
    "# ...SOME CODE THAT CALCULATES STUFF...\n",
    "#    return retVal\n",
    "\n",
    "# When calling the function to use the code, it would look like this...\n",
    "\n",
    "# Nodeg\n",
    "#print(rangeMag(df, \"Nodeg\"))\n",
    "# Earnings_1974\n",
    "#print(rangeMag(df, \"Earnings_1974\"))\n",
    "# Earnings_1975\n",
    "#print(rangeMag(df, \"Earnings_1975\"))\n",
    "# Earnings_1978\n",
    "#print(rangeMag(df, \"Earnings_1978\"))\n"
   ]
  },
  {
   "cell_type": "code",
   "execution_count": null,
   "metadata": {},
   "outputs": [],
   "source": []
  },
  {
   "cell_type": "code",
   "execution_count": null,
   "metadata": {},
   "outputs": [],
   "source": []
  },
  {
   "cell_type": "markdown",
   "metadata": {},
   "source": [
    "### Load Some Data"
   ]
  },
  {
   "cell_type": "code",
   "execution_count": 140,
   "metadata": {},
   "outputs": [
    {
     "data": {
      "text/html": [
       "<div>\n",
       "<style scoped>\n",
       "    .dataframe tbody tr th:only-of-type {\n",
       "        vertical-align: middle;\n",
       "    }\n",
       "\n",
       "    .dataframe tbody tr th {\n",
       "        vertical-align: top;\n",
       "    }\n",
       "\n",
       "    .dataframe thead th {\n",
       "        text-align: right;\n",
       "    }\n",
       "</style>\n",
       "<table border=\"1\" class=\"dataframe\">\n",
       "  <thead>\n",
       "    <tr style=\"text-align: right;\">\n",
       "      <th></th>\n",
       "      <th>Age</th>\n",
       "      <th>Eduacation</th>\n",
       "      <th>Race</th>\n",
       "      <th>Hisp</th>\n",
       "      <th>MaritalStatus</th>\n",
       "      <th>Nodeg</th>\n",
       "      <th>Earnings_1974</th>\n",
       "      <th>Earnings_1975</th>\n",
       "      <th>Earnings_1978</th>\n",
       "    </tr>\n",
       "  </thead>\n",
       "  <tbody>\n",
       "    <tr>\n",
       "      <th>0</th>\n",
       "      <td>45</td>\n",
       "      <td>LessThanHighSchool</td>\n",
       "      <td>NotBlack</td>\n",
       "      <td>NotHispanic</td>\n",
       "      <td>Married</td>\n",
       "      <td>1</td>\n",
       "      <td>21516.670</td>\n",
       "      <td>25243.550</td>\n",
       "      <td>25564.670</td>\n",
       "    </tr>\n",
       "    <tr>\n",
       "      <th>1</th>\n",
       "      <td>21</td>\n",
       "      <td>Intermediate</td>\n",
       "      <td>NotBlack</td>\n",
       "      <td>NotHispanic</td>\n",
       "      <td>NotMarried</td>\n",
       "      <td>0</td>\n",
       "      <td>3175.971</td>\n",
       "      <td>5852.565</td>\n",
       "      <td>13496.080</td>\n",
       "    </tr>\n",
       "    <tr>\n",
       "      <th>2</th>\n",
       "      <td>38</td>\n",
       "      <td>HighSchool</td>\n",
       "      <td>NotBlack</td>\n",
       "      <td>NotHispanic</td>\n",
       "      <td>Married</td>\n",
       "      <td>0</td>\n",
       "      <td>23039.020</td>\n",
       "      <td>25130.760</td>\n",
       "      <td>25564.670</td>\n",
       "    </tr>\n",
       "    <tr>\n",
       "      <th>3</th>\n",
       "      <td>48</td>\n",
       "      <td>LessThanHighSchool</td>\n",
       "      <td>NotBlack</td>\n",
       "      <td>NotHispanic</td>\n",
       "      <td>Married</td>\n",
       "      <td>1</td>\n",
       "      <td>24994.370</td>\n",
       "      <td>25243.550</td>\n",
       "      <td>25564.670</td>\n",
       "    </tr>\n",
       "    <tr>\n",
       "      <th>4</th>\n",
       "      <td>18</td>\n",
       "      <td>LessThanHighSchool</td>\n",
       "      <td>NotBlack</td>\n",
       "      <td>NotHispanic</td>\n",
       "      <td>Married</td>\n",
       "      <td>1</td>\n",
       "      <td>1669.295</td>\n",
       "      <td>10727.610</td>\n",
       "      <td>9860.869</td>\n",
       "    </tr>\n",
       "  </tbody>\n",
       "</table>\n",
       "</div>"
      ],
      "text/plain": [
       "   Age          Eduacation      Race         Hisp MaritalStatus  Nodeg  \\\n",
       "0   45  LessThanHighSchool  NotBlack  NotHispanic       Married      1   \n",
       "1   21        Intermediate  NotBlack  NotHispanic    NotMarried      0   \n",
       "2   38          HighSchool  NotBlack  NotHispanic       Married      0   \n",
       "3   48  LessThanHighSchool  NotBlack  NotHispanic       Married      1   \n",
       "4   18  LessThanHighSchool  NotBlack  NotHispanic       Married      1   \n",
       "\n",
       "   Earnings_1974  Earnings_1975  Earnings_1978  \n",
       "0      21516.670      25243.550      25564.670  \n",
       "1       3175.971       5852.565      13496.080  \n",
       "2      23039.020      25130.760      25564.670  \n",
       "3      24994.370      25243.550      25564.670  \n",
       "4       1669.295      10727.610       9860.869  "
      ]
     },
     "execution_count": 140,
     "metadata": {},
     "output_type": "execute_result"
    }
   ],
   "source": [
    "df = pd.read_csv(\"LabourTrainingEvaluationData.csv\")\n",
    "df.head()"
   ]
  },
  {
   "cell_type": "code",
   "execution_count": 189,
   "metadata": {},
   "outputs": [
    {
     "name": "stdout",
     "output_type": "stream",
     "text": [
      "The Magnitude of Earnings_1975 vector is : 68.78226515607058\n"
     ]
    }
   ],
   "source": [
    "a = df[\"Nodeg\"]\n",
    "magnitude=np.sqrt(a.dot(a))\n",
    "print(\"The Magnitude of Earnings_1975 vector is :\",magnitude)"
   ]
  },
  {
   "cell_type": "code",
   "execution_count": 190,
   "metadata": {},
   "outputs": [
    {
     "name": "stdout",
     "output_type": "stream",
     "text": [
      "The Magnitude of Earnings_1978 vector is : 2239045.8750952412\n"
     ]
    }
   ],
   "source": [
    "a = df[\"Earnings_1978\"]\n",
    "magnitude=np.sqrt(a.dot(a))\n",
    "print(\"The Magnitude of Earnings_1978 vector is :\",magnitude)"
   ]
  },
  {
   "cell_type": "code",
   "execution_count": 191,
   "metadata": {},
   "outputs": [
    {
     "name": "stdout",
     "output_type": "stream",
     "text": [
      "The Magnitude of Earnings_1975 vector is : 2086694.2088799619\n"
     ]
    }
   ],
   "source": [
    "a = df[\"Earnings_1975\"]\n",
    "magnitude=np.sqrt(a.dot(a))\n",
    "print(\"The Magnitude of Earnings_1975 vector is :\",magnitude)"
   ]
  },
  {
   "cell_type": "code",
   "execution_count": 192,
   "metadata": {},
   "outputs": [
    {
     "name": "stdout",
     "output_type": "stream",
     "text": [
      "The Magnitude of Earnings_1975 vector is : 2086694.2088799619\n"
     ]
    }
   ],
   "source": [
    "a = df[\"Earnings_1975\"]\n",
    "magnitude=np.sqrt(a.dot(a))\n",
    "print(\"The Magnitude of Earnings_1975 vector is :\",magnitude)"
   ]
  },
  {
   "cell_type": "code",
   "execution_count": 141,
   "metadata": {},
   "outputs": [],
   "source": [
    "df_Races = df.groupby(\"Nodeg\")\n",
    "df_MaritalStatus = df.groupby(\"MaritalStatus\")\n",
    "df_Education = df.groupby(\"Eduacation\")\n",
    "df_Nodeg = df.groupby(\"Nodeg\")"
   ]
  },
  {
   "cell_type": "code",
   "execution_count": 142,
   "metadata": {},
   "outputs": [],
   "source": [
    "df_Earnings_1978 = df.groupby(\"Earnings_1978\")\n",
    "df_Earnings_1974 = df.groupby(\"Earnings_1974\")\n",
    "df_Earnings_1974 = df.groupby(\"Earnings_1974\")"
   ]
  },
  {
   "cell_type": "markdown",
   "metadata": {},
   "source": [
    "### Challenge 1 - Magnitude of Range"
   ]
  },
  {
   "cell_type": "markdown",
   "metadata": {},
   "source": [
    "### Challenge 2 - Percent of Values Above a Value"
   ]
  },
  {
   "cell_type": "code",
   "execution_count": null,
   "metadata": {},
   "outputs": [],
   "source": []
  },
  {
   "cell_type": "markdown",
   "metadata": {},
   "source": [
    "### Challenge 3 - Mean of Differences"
   ]
  },
  {
   "cell_type": "code",
   "execution_count": null,
   "metadata": {},
   "outputs": [],
   "source": []
  },
  {
   "cell_type": "markdown",
   "metadata": {},
   "source": [
    "### Challenge 4 - Count of Values in Range"
   ]
  },
  {
   "cell_type": "code",
   "execution_count": null,
   "metadata": {},
   "outputs": [],
   "source": []
  },
  {
   "cell_type": "markdown",
   "metadata": {},
   "source": [
    "### Challenge 5 - Basic Stats Calculations"
   ]
  },
  {
   "cell_type": "code",
   "execution_count": null,
   "metadata": {},
   "outputs": [],
   "source": []
  },
  {
   "cell_type": "markdown",
   "metadata": {},
   "source": [
    "### Challenge 6 - Cohort Calculations\n",
    "\n",
    "Here is some sample code that may be helpful:\n",
    "\n",
    "```python\n",
    "#Modification of cohort code to send back a tuple of results. \n",
    "#You could do this more manually as well.\n",
    "def cohort(df_in, cohort1, cohort2, cohort3, earningsColumn):\n",
    "    df_in[\"Cohort\"] = (df_in[cohort1]+df_in[cohort2]+df_in[cohort3])\n",
    "    cohortList = df_in[\"Cohort\"].unique()\n",
    "    i = 0\n",
    "    resList = []\n",
    "    while i < cohortList.size:\n",
    "        tmp = df_in[df_in.Cohort == cohortList[i]]\n",
    "        histTmp = thinkstats2.Hist(round(tmp[earningsColumn], -3))\n",
    "        resList.append((histTmp, cohortList[i], tmp[earningsColumn].median()))\n",
    "        i = i + 1\n",
    "    return resList\n",
    "```"
   ]
  },
  {
   "cell_type": "code",
   "execution_count": null,
   "metadata": {},
   "outputs": [],
   "source": []
  },
  {
   "cell_type": "code",
   "execution_count": 143,
   "metadata": {},
   "outputs": [],
   "source": [
    "# What percentage of people in 1974 earned above $20,000? "
   ]
  },
  {
   "cell_type": "code",
   "execution_count": 144,
   "metadata": {},
   "outputs": [
    {
     "data": {
      "text/plain": [
       "{'xscale': 'linear', 'yscale': 'linear'}"
      ]
     },
     "execution_count": 144,
     "metadata": {},
     "output_type": "execute_result"
    },
    {
     "data": {
      "image/png": "[encoded data removed]",
      "text/plain": [
       "<Figure size 432x288 with 1 Axes>"
      ]
     },
     "metadata": {
      "needs_background": "light"
     },
     "output_type": "display_data"
    }
   ],
   "source": [
    "#Create and show CDF of Earning\n",
    "df_cdf = thinkstats2.Cdf(df['Earnings_1974'])\n",
    "thinkplot.Cdf(df_cdf)"
   ]
  },
  {
   "cell_type": "code",
   "execution_count": 145,
   "metadata": {},
   "outputs": [
    {
     "name": "stdout",
     "output_type": "stream",
     "text": [
      "The percentage of people in 1974 earned above $20,000 is: 35.8%\n"
     ]
    }
   ],
   "source": [
    "df_cdf.Prob(20000)\n",
    "#And if we want to see in in pretty printing\n",
    "print(\"The percentage of people in 1974 earned above $20,000 is:\",str(round(1 - df_cdf.Prob(20000), 3)*100)+\"%\")"
   ]
  },
  {
   "cell_type": "code",
   "execution_count": 146,
   "metadata": {},
   "outputs": [],
   "source": [
    "# What percentage of people in 1978 earned above $25,000?#"
   ]
  },
  {
   "cell_type": "code",
   "execution_count": 147,
   "metadata": {},
   "outputs": [
    {
     "data": {
      "text/plain": [
       "{'xscale': 'linear', 'yscale': 'linear'}"
      ]
     },
     "execution_count": 147,
     "metadata": {},
     "output_type": "execute_result"
    },
    {
     "data": {
      "image/png": "[encoded data removed]",
      "text/plain": [
       "<Figure size 432x288 with 1 Axes>"
      ]
     },
     "metadata": {
      "needs_background": "light"
     },
     "output_type": "display_data"
    }
   ],
   "source": [
    "#Create and show CDF of Earning\n",
    "df_cdf = thinkstats2.Cdf(df['Earnings_1978'])\n",
    "thinkplot.Cdf(df_cdf)"
   ]
  },
  {
   "cell_type": "code",
   "execution_count": 148,
   "metadata": {},
   "outputs": [
    {
     "data": {
      "text/plain": [
       "count    15992.000000\n",
       "mean     14846.659673\n",
       "std       9647.391524\n",
       "min          0.000000\n",
       "25%       5669.298000\n",
       "50%      16421.975000\n",
       "75%      25564.670000\n",
       "max      25564.670000\n",
       "Name: Earnings_1978, dtype: float64"
      ]
     },
     "execution_count": 148,
     "metadata": {},
     "output_type": "execute_result"
    }
   ],
   "source": [
    "\n",
    "df['Earnings_1978'].describe()"
   ]
  },
  {
   "cell_type": "code",
   "execution_count": 149,
   "metadata": {},
   "outputs": [
    {
     "name": "stdout",
     "output_type": "stream",
     "text": [
      "The percentage of people in 1978 earned above $25,000 is: 27.3%\n"
     ]
    }
   ],
   "source": [
    "df_cdf.Prob(25000)\n",
    "#And if we want to see in in pretty printing\n",
    "print(\"The percentage of people in 1978 earned above $25,000 is:\",str(round(1 - df_cdf.Prob(25000), 3)*100)+\"%\")"
   ]
  },
  {
   "cell_type": "code",
   "execution_count": 150,
   "metadata": {},
   "outputs": [
    {
     "data": {
      "text/plain": [
       "14557.11"
      ]
     },
     "execution_count": 150,
     "metadata": {},
     "output_type": "execute_result"
    }
   ],
   "source": [
    "(df['Earnings_1975'].median())"
   ]
  },
  {
   "cell_type": "code",
   "execution_count": 151,
   "metadata": {},
   "outputs": [],
   "source": [
    "# % of people that earned above 1975 median earnings in 1978"
   ]
  },
  {
   "cell_type": "code",
   "execution_count": 152,
   "metadata": {},
   "outputs": [
    {
     "name": "stdout",
     "output_type": "stream",
     "text": [
      "The percentage of that earned above 1975 median earnings in 1978 is: 55.2%\n"
     ]
    }
   ],
   "source": [
    "df_cdf.Prob((df['Earnings_1975'].median()))\n",
    "#And if we want to see in in pretty printing\n",
    "print(\"The percentage of that earned above 1975 median earnings in 1978 is:\",str(round(1 - df_cdf.Prob((df['Earnings_1975'].median())), 3)*100)+\"%\")"
   ]
  },
  {
   "cell_type": "code",
   "execution_count": 153,
   "metadata": {},
   "outputs": [],
   "source": [
    "# What is the mean of the differences between Earnings_1974 and Earnings_1978"
   ]
  },
  {
   "cell_type": "code",
   "execution_count": 154,
   "metadata": {},
   "outputs": [
    {
     "data": {
      "text/plain": [
       "829.8593687148423"
      ]
     },
     "execution_count": 154,
     "metadata": {},
     "output_type": "execute_result"
    }
   ],
   "source": [
    "df['Earnings_1978'].mean()  - df['Earnings_1974'].mean()"
   ]
  },
  {
   "cell_type": "code",
   "execution_count": 155,
   "metadata": {},
   "outputs": [
    {
     "data": {
      "text/plain": [
       "Age              2054\n",
       "Eduacation       2054\n",
       "Race             2054\n",
       "Hisp             2054\n",
       "MaritalStatus    2054\n",
       "Nodeg            2054\n",
       "Earnings_1974    2054\n",
       "Earnings_1975    2054\n",
       "Earnings_1978    2054\n",
       "dtype: int64"
      ]
     },
     "execution_count": 155,
     "metadata": {},
     "output_type": "execute_result"
    }
   ],
   "source": [
    "df2 = df[df['Earnings_1974']>=10000]\n",
    "df3 = df2[df2['Earnings_1974']<=15000]\n",
    "df3.count()"
   ]
  },
  {
   "cell_type": "code",
   "execution_count": 156,
   "metadata": {},
   "outputs": [
    {
     "data": {
      "text/plain": [
       "Age              13468\n",
       "Eduacation       13468\n",
       "Race             13468\n",
       "Hisp             13468\n",
       "MaritalStatus    13468\n",
       "Nodeg            13468\n",
       "Earnings_1974    13468\n",
       "Earnings_1975    13468\n",
       "Earnings_1978    13468\n",
       "dtype: int64"
      ]
     },
     "execution_count": 156,
     "metadata": {},
     "output_type": "execute_result"
    }
   ],
   "source": [
    "# 18 to 49 \n",
    "\n",
    "df2 = df[df['Age']>=18]\n",
    "df3 = df2[df2['Age']<=49]\n",
    "df3.count()"
   ]
  },
  {
   "cell_type": "code",
   "execution_count": 157,
   "metadata": {},
   "outputs": [
    {
     "data": {
      "text/plain": [
       "14846.659672906011"
      ]
     },
     "execution_count": 157,
     "metadata": {},
     "output_type": "execute_result"
    }
   ],
   "source": [
    "df['Earnings_1978'].mean()"
   ]
  },
  {
   "cell_type": "code",
   "execution_count": 158,
   "metadata": {},
   "outputs": [
    {
     "data": {
      "text/plain": [
       "Age              2602\n",
       "Eduacation       2602\n",
       "Race             2602\n",
       "Hisp             2602\n",
       "MaritalStatus    2602\n",
       "Nodeg            2602\n",
       "Earnings_1974    2602\n",
       "Earnings_1975    2602\n",
       "Earnings_1978    2602\n",
       "dtype: int64"
      ]
     },
     "execution_count": 158,
     "metadata": {},
     "output_type": "execute_result"
    }
   ],
   "source": [
    "#How many people who are in their 20s, earned between the mean and median earnings in 1978#\n",
    "\n",
    "df2 = df[df['Earnings_1978']>=df['Earnings_1978'].median()]\n",
    "df3 =df2[df2[\"Age\"]<=29]\n",
    "\n",
    "df4 = df3[df3[\"Age\"]>=20]\n",
    "df4.count()\n",
    "\n"
   ]
  },
  {
   "cell_type": "code",
   "execution_count": null,
   "metadata": {},
   "outputs": [],
   "source": []
  },
  {
   "cell_type": "code",
   "execution_count": 159,
   "metadata": {},
   "outputs": [],
   "source": [
    "df_Earnings_1978 = df.groupby(\"Earnings_1978\")\n",
    "df_Earnings_1974 = df.groupby(\"Earnings_1974\")\n",
    "df_Earnings_1975 = df.groupby(\"Earnings_1975\")"
   ]
  },
  {
   "cell_type": "code",
   "execution_count": 160,
   "metadata": {},
   "outputs": [
    {
     "data": {
      "text/html": [
       "<div>\n",
       "<style scoped>\n",
       "    .dataframe tbody tr th:only-of-type {\n",
       "        vertical-align: middle;\n",
       "    }\n",
       "\n",
       "    .dataframe tbody tr th {\n",
       "        vertical-align: top;\n",
       "    }\n",
       "\n",
       "    .dataframe thead th {\n",
       "        text-align: right;\n",
       "    }\n",
       "</style>\n",
       "<table border=\"1\" class=\"dataframe\">\n",
       "  <thead>\n",
       "    <tr style=\"text-align: right;\">\n",
       "      <th></th>\n",
       "      <th>max</th>\n",
       "      <th>min</th>\n",
       "      <th>count</th>\n",
       "      <th>median</th>\n",
       "      <th>mean</th>\n",
       "    </tr>\n",
       "    <tr>\n",
       "      <th>Nodeg</th>\n",
       "      <th></th>\n",
       "      <th></th>\n",
       "      <th></th>\n",
       "      <th></th>\n",
       "      <th></th>\n",
       "    </tr>\n",
       "  </thead>\n",
       "  <tbody>\n",
       "    <tr>\n",
       "      <th>0</th>\n",
       "      <td>25862.32</td>\n",
       "      <td>0.0</td>\n",
       "      <td>11261</td>\n",
       "      <td>16741.93</td>\n",
       "      <td>15032.593755</td>\n",
       "    </tr>\n",
       "    <tr>\n",
       "      <th>1</th>\n",
       "      <td>25862.32</td>\n",
       "      <td>0.0</td>\n",
       "      <td>4731</td>\n",
       "      <td>11397.05</td>\n",
       "      <td>11598.949946</td>\n",
       "    </tr>\n",
       "  </tbody>\n",
       "</table>\n",
       "</div>"
      ],
      "text/plain": [
       "            max  min  count    median          mean\n",
       "Nodeg                                              \n",
       "0      25862.32  0.0  11261  16741.93  15032.593755\n",
       "1      25862.32  0.0   4731  11397.05  11598.949946"
      ]
     },
     "execution_count": 160,
     "metadata": {},
     "output_type": "execute_result"
    }
   ],
   "source": [
    "df_Races.Earnings_1974.agg(['max', 'min', 'count', 'median', 'mean'])\n"
   ]
  },
  {
   "cell_type": "code",
   "execution_count": 161,
   "metadata": {},
   "outputs": [
    {
     "data": {
      "text/html": [
       "<div>\n",
       "<style scoped>\n",
       "    .dataframe tbody tr th:only-of-type {\n",
       "        vertical-align: middle;\n",
       "    }\n",
       "\n",
       "    .dataframe tbody tr th {\n",
       "        vertical-align: top;\n",
       "    }\n",
       "\n",
       "    .dataframe thead th {\n",
       "        text-align: right;\n",
       "    }\n",
       "</style>\n",
       "<table border=\"1\" class=\"dataframe\">\n",
       "  <thead>\n",
       "    <tr style=\"text-align: right;\">\n",
       "      <th></th>\n",
       "      <th>max</th>\n",
       "      <th>min</th>\n",
       "      <th>count</th>\n",
       "      <th>median</th>\n",
       "      <th>mean</th>\n",
       "    </tr>\n",
       "    <tr>\n",
       "      <th>Nodeg</th>\n",
       "      <th></th>\n",
       "      <th></th>\n",
       "      <th></th>\n",
       "      <th></th>\n",
       "      <th></th>\n",
       "    </tr>\n",
       "  </thead>\n",
       "  <tbody>\n",
       "    <tr>\n",
       "      <th>0</th>\n",
       "      <td>25243.55</td>\n",
       "      <td>0.0</td>\n",
       "      <td>11261</td>\n",
       "      <td>16410.10</td>\n",
       "      <td>14710.629182</td>\n",
       "    </tr>\n",
       "    <tr>\n",
       "      <th>1</th>\n",
       "      <td>25243.55</td>\n",
       "      <td>0.0</td>\n",
       "      <td>4731</td>\n",
       "      <td>10727.61</td>\n",
       "      <td>11128.144656</td>\n",
       "    </tr>\n",
       "  </tbody>\n",
       "</table>\n",
       "</div>"
      ],
      "text/plain": [
       "            max  min  count    median          mean\n",
       "Nodeg                                              \n",
       "0      25243.55  0.0  11261  16410.10  14710.629182\n",
       "1      25243.55  0.0   4731  10727.61  11128.144656"
      ]
     },
     "execution_count": 161,
     "metadata": {},
     "output_type": "execute_result"
    }
   ],
   "source": [
    "df_Races.Earnings_1975.agg(['max', 'min', 'count', 'median', 'mean'])"
   ]
  },
  {
   "cell_type": "code",
   "execution_count": 162,
   "metadata": {},
   "outputs": [
    {
     "data": {
      "text/html": [
       "<div>\n",
       "<style scoped>\n",
       "    .dataframe tbody tr th:only-of-type {\n",
       "        vertical-align: middle;\n",
       "    }\n",
       "\n",
       "    .dataframe tbody tr th {\n",
       "        vertical-align: top;\n",
       "    }\n",
       "\n",
       "    .dataframe thead th {\n",
       "        text-align: right;\n",
       "    }\n",
       "</style>\n",
       "<table border=\"1\" class=\"dataframe\">\n",
       "  <thead>\n",
       "    <tr style=\"text-align: right;\">\n",
       "      <th></th>\n",
       "      <th>max</th>\n",
       "      <th>min</th>\n",
       "      <th>count</th>\n",
       "      <th>median</th>\n",
       "      <th>mean</th>\n",
       "    </tr>\n",
       "    <tr>\n",
       "      <th>Nodeg</th>\n",
       "      <th></th>\n",
       "      <th></th>\n",
       "      <th></th>\n",
       "      <th></th>\n",
       "      <th></th>\n",
       "    </tr>\n",
       "  </thead>\n",
       "  <tbody>\n",
       "    <tr>\n",
       "      <th>0</th>\n",
       "      <td>25564.67</td>\n",
       "      <td>0.0</td>\n",
       "      <td>11261</td>\n",
       "      <td>18693.24</td>\n",
       "      <td>15796.747484</td>\n",
       "    </tr>\n",
       "    <tr>\n",
       "      <th>1</th>\n",
       "      <td>25564.67</td>\n",
       "      <td>0.0</td>\n",
       "      <td>4731</td>\n",
       "      <td>12412.90</td>\n",
       "      <td>12585.205679</td>\n",
       "    </tr>\n",
       "  </tbody>\n",
       "</table>\n",
       "</div>"
      ],
      "text/plain": [
       "            max  min  count    median          mean\n",
       "Nodeg                                              \n",
       "0      25564.67  0.0  11261  18693.24  15796.747484\n",
       "1      25564.67  0.0   4731  12412.90  12585.205679"
      ]
     },
     "execution_count": 162,
     "metadata": {},
     "output_type": "execute_result"
    }
   ],
   "source": [
    "df_Races.Earnings_1978.agg(['max', 'min', 'count', 'median', 'mean'])"
   ]
  },
  {
   "cell_type": "code",
   "execution_count": 163,
   "metadata": {},
   "outputs": [
    {
     "data": {
      "text/plain": [
       "9569.795893380959"
      ]
     },
     "execution_count": 163,
     "metadata": {},
     "output_type": "execute_result"
    }
   ],
   "source": [
    "df['Earnings_1974'].std()"
   ]
  },
  {
   "cell_type": "code",
   "execution_count": 164,
   "metadata": {},
   "outputs": [
    {
     "data": {
      "text/plain": [
       "9270.403224861113"
      ]
     },
     "execution_count": 164,
     "metadata": {},
     "output_type": "execute_result"
    }
   ],
   "source": [
    "df['Earnings_1975'].std()"
   ]
  },
  {
   "cell_type": "code",
   "execution_count": 165,
   "metadata": {},
   "outputs": [
    {
     "data": {
      "text/plain": [
       "9647.391524355906"
      ]
     },
     "execution_count": 165,
     "metadata": {},
     "output_type": "execute_result"
    }
   ],
   "source": [
    "df['Earnings_1978'].std()"
   ]
  },
  {
   "cell_type": "code",
   "execution_count": 166,
   "metadata": {},
   "outputs": [
    {
     "data": {
      "text/plain": [
       "-1575.3153270939874"
      ]
     },
     "execution_count": 166,
     "metadata": {},
     "output_type": "execute_result"
    }
   ],
   "source": [
    "df['Earnings_1978'].mean()  - df['Earnings_1978'].median()"
   ]
  },
  {
   "cell_type": "code",
   "execution_count": 167,
   "metadata": {},
   "outputs": [
    {
     "data": {
      "text/plain": [
       "-1106.779695808831"
      ]
     },
     "execution_count": 167,
     "metadata": {},
     "output_type": "execute_result"
    }
   ],
   "source": [
    "df['Earnings_1974'].mean()  - df['Earnings_1974'].median()"
   ]
  },
  {
   "cell_type": "code",
   "execution_count": 168,
   "metadata": {},
   "outputs": [
    {
     "data": {
      "text/plain": [
       "-906.3066239268392"
      ]
     },
     "execution_count": 168,
     "metadata": {},
     "output_type": "execute_result"
    }
   ],
   "source": [
    "df['Earnings_1975'].mean()  - df['Earnings_1975'].median()"
   ]
  },
  {
   "cell_type": "code",
   "execution_count": 169,
   "metadata": {},
   "outputs": [],
   "source": [
    "def CohenEffectSize(group1, group2):\n",
    "    \"\"\"Computes Cohen's effect size for two groups.\n",
    "    \n",
    "    group1: Series or DataFrame\n",
    "    group2: Series or DataFrame\n",
    "    \n",
    "    returns: float if the arguments are Series;\n",
    "             Series if the arguments are DataFrames\n",
    "    \"\"\"\n",
    "    diff = group1.mean() - group2.mean()\n",
    "\n",
    "    var1 = group1.var()\n",
    "    var2 = group2.var()\n",
    "    n1, n2 = len(group1), len(group2)\n",
    "\n",
    "    pooled_var = (n1 * var1 + n2 * var2) / (n1 + n2)\n",
    "    d = diff / np.sqrt(pooled_var)\n",
    "    return d"
   ]
  },
  {
   "cell_type": "code",
   "execution_count": 170,
   "metadata": {},
   "outputs": [],
   "source": [
    "# What is the lowest median earnings in 1978 of cohorts defined by their RACE, HISP, and MARITALSTATUS\""
   ]
  },
  {
   "cell_type": "code",
   "execution_count": 171,
   "metadata": {},
   "outputs": [
    {
     "name": "stdout",
     "output_type": "stream",
     "text": [
      "       Race  Av_Income_1978\n",
      "0  NotBlack        16894.11\n",
      "1     black        12115.88\n"
     ]
    }
   ],
   "source": [
    "df_r3 = df.groupby('Race', as_index=False ).agg({\"Earnings_1978\":\"median\"})\n",
    "print(df_r3.rename(columns={\"Earnings_1978\": \"Av_Income_1978\"}))"
   ]
  },
  {
   "cell_type": "code",
   "execution_count": 172,
   "metadata": {},
   "outputs": [
    {
     "name": "stdout",
     "output_type": "stream",
     "text": [
      "          Hisp  Av_Income_1978\n",
      "0  NotHispanic        16717.52\n",
      "1     hispanic        13717.74\n"
     ]
    }
   ],
   "source": [
    "df_r3 = df.groupby('Hisp', as_index=False ).agg({\"Earnings_1978\":\"median\"})\n",
    "print(df_r3.rename(columns={\"Earnings_1978\": \"Av_Income_1978\"}))"
   ]
  },
  {
   "cell_type": "code",
   "execution_count": 173,
   "metadata": {},
   "outputs": [
    {
     "name": "stdout",
     "output_type": "stream",
     "text": [
      "  MaritalStatus  Av_Income_1978\n",
      "0       Married       19664.850\n",
      "1    NotMarried        9982.043\n"
     ]
    }
   ],
   "source": [
    "df_r3 = df.groupby('MaritalStatus', as_index=False ).agg({\"Earnings_1978\":\"median\"})\n",
    "print(df_r3.rename(columns={\"Earnings_1978\": \"Av_Income_1978\"}))"
   ]
  },
  {
   "cell_type": "code",
   "execution_count": 174,
   "metadata": {},
   "outputs": [],
   "source": [
    "# What is the lowest median earnings in 1974 of cohorts defined by their EDUCATION, RACE, and HISP?"
   ]
  },
  {
   "cell_type": "code",
   "execution_count": 175,
   "metadata": {},
   "outputs": [],
   "source": [
    "# What is the lowest median earnings in 1974 of cohorts defined by their EDUCATION, RACE, and HISP?"
   ]
  },
  {
   "cell_type": "code",
   "execution_count": 176,
   "metadata": {},
   "outputs": [
    {
     "name": "stdout",
     "output_type": "stream",
     "text": [
      "           Eduacation  Av_Income_1974\n",
      "0          HighSchool       16902.590\n",
      "1        Intermediate       14801.280\n",
      "2  LessThanHighSchool       11397.050\n",
      "3        PostGraduate       17458.045\n",
      "4            graduate       18597.360\n"
     ]
    }
   ],
   "source": [
    "df_r3 = df.groupby('Eduacation', as_index=False ).agg({\"Earnings_1974\":\"median\"})\n",
    "print(df_r3.rename(columns={\"Earnings_1974\": \"Av_Income_1974\"}))"
   ]
  },
  {
   "cell_type": "code",
   "execution_count": 177,
   "metadata": {},
   "outputs": [
    {
     "name": "stdout",
     "output_type": "stream",
     "text": [
      "       Race  Av_Income_1974\n",
      "0  NotBlack        15526.21\n",
      "1     black        11079.65\n"
     ]
    }
   ],
   "source": [
    "df_r3 = df.groupby('Race', as_index=False ).agg({\"Earnings_1974\":\"median\"})\n",
    "print(df_r3.rename(columns={\"Earnings_1974\": \"Av_Income_1974\"}))"
   ]
  },
  {
   "cell_type": "code",
   "execution_count": 178,
   "metadata": {},
   "outputs": [
    {
     "name": "stdout",
     "output_type": "stream",
     "text": [
      "          Hisp  Av_Income_1974\n",
      "0  NotHispanic       15374.370\n",
      "1     hispanic       12668.615\n"
     ]
    }
   ],
   "source": [
    "df_r3 = df.groupby('Hisp', as_index=False ).agg({\"Earnings_1974\":\"median\"})\n",
    "print(df_r3.rename(columns={\"Earnings_1974\": \"Av_Income_1974\"}))"
   ]
  },
  {
   "cell_type": "code",
   "execution_count": 179,
   "metadata": {},
   "outputs": [],
   "source": [
    "def Median(xs):\n",
    "    cdf = thinkstats2.MakeCdfFromList(df['Nodeg'])\n",
    "    return cdf.Value(0.5)\n"
   ]
  },
  {
   "cell_type": "code",
   "execution_count": null,
   "metadata": {},
   "outputs": [],
   "source": []
  },
  {
   "cell_type": "code",
   "execution_count": 180,
   "metadata": {},
   "outputs": [
    {
     "data": {
      "text/plain": [
       "0.4564316492829154"
      ]
     },
     "execution_count": 180,
     "metadata": {},
     "output_type": "execute_result"
    }
   ],
   "source": [
    "df['Nodeg'].std()\n"
   ]
  },
  {
   "cell_type": "code",
   "execution_count": 181,
   "metadata": {},
   "outputs": [
    {
     "data": {
      "text/plain": [
       "9647.391524355906"
      ]
     },
     "execution_count": 181,
     "metadata": {},
     "output_type": "execute_result"
    }
   ],
   "source": [
    "df['Earnings_1978'].std()"
   ]
  },
  {
   "cell_type": "code",
   "execution_count": 182,
   "metadata": {},
   "outputs": [
    {
     "name": "stdout",
     "output_type": "stream",
     "text": [
      "The given vector is: 0        1\n",
      "1        0\n",
      "2        0\n",
      "3        1\n",
      "4        1\n",
      "        ..\n",
      "15987    0\n",
      "15988    0\n",
      "15989    0\n",
      "15990    1\n",
      "15991    1\n",
      "Name: Nodeg, Length: 15992, dtype: int64\n",
      "The Magnitude of the given vector is : 68.78226515607058\n"
     ]
    }
   ],
   "source": [
    "a = df[\"Nodeg\"]\n",
    "magnitude=np.sqrt(a.dot(a))\n",
    "print(\"The given vector is:\",a)\n",
    "print(\"The Magnitude of the given vector is :\",magnitude)"
   ]
  },
  {
   "cell_type": "code",
   "execution_count": 184,
   "metadata": {},
   "outputs": [
    {
     "name": "stdout",
     "output_type": "stream",
     "text": [
      "The given vector is: 0        21516.670\n",
      "1         3175.971\n",
      "2        23039.020\n",
      "3        24994.370\n",
      "4         1669.295\n",
      "           ...    \n",
      "15987     3975.352\n",
      "15988     1445.939\n",
      "15989     1733.951\n",
      "15990    16914.350\n",
      "15991    13628.660\n",
      "Name: Earnings_1974, Length: 15992, dtype: float64\n",
      "The Magnitude of Earnings_1974 vector is : 2146259.7589457966\n"
     ]
    }
   ],
   "source": [
    "a = df[\"Earnings_1974\"]\n",
    "magnitude=np.sqrt(a.dot(a))\n",
    "print(\"The given vector is:\",a)\n",
    "print(\"The Magnitude of Earnings_1974 vector is :\",magnitude)"
   ]
  },
  {
   "cell_type": "code",
   "execution_count": 185,
   "metadata": {},
   "outputs": [
    {
     "name": "stdout",
     "output_type": "stream",
     "text": [
      "The given vector is: 0        25243.550\n",
      "1         5852.565\n",
      "2        25130.760\n",
      "3        25243.550\n",
      "4        10727.610\n",
      "           ...    \n",
      "15987     6801.435\n",
      "15988    11832.240\n",
      "15989     1559.371\n",
      "15990    11384.660\n",
      "15991    13144.550\n",
      "Name: Earnings_1975, Length: 15992, dtype: float64\n",
      "The Magnitude of Earnings_1975 vector is : 2086694.2088799619\n"
     ]
    }
   ],
   "source": [
    "a = df[\"Earnings_1975\"]\n",
    "magnitude=np.sqrt(a.dot(a))\n",
    "print(\"The given vector is:\",a)\n",
    "print(\"The Magnitude of Earnings_1975 vector is :\",magnitude)"
   ]
  },
  {
   "cell_type": "code",
   "execution_count": 188,
   "metadata": {},
   "outputs": [
    {
     "name": "stdout",
     "output_type": "stream",
     "text": [
      "The Magnitude of Earnings_1978 vector is : 2239045.8750952412\n"
     ]
    }
   ],
   "source": [
    "a = df[\"Earnings_1978\"]\n",
    "magnitude=np.sqrt(a.dot(a))\n",
    "print(\"The Magnitude of Earnings_1978 vector is :\",magnitude)"
   ]
  }
 ],
 "metadata": {
  "kernelspec": {
   "display_name": "Python 3.9.12 ('base')",
   "language": "python",
   "name": "python3"
  },
  "language_info": {
   "codemirror_mode": {
    "name": "ipython",
    "version": 3
   },
   "file_extension": ".py",
   "mimetype": "text/x-python",
   "name": "python",
   "nbconvert_exporter": "python",
   "pygments_lexer": "ipython3",
   "version": "3.9.12"
  },
  "orig_nbformat": 4,
  "vscode": {
   "interpreter": {
    "hash": "5e7cbeb742f02d765fcec4b3e42c8713f0c6d06ac97c88ada4b0856650159d56"
   }
  }
 },
 "nbformat": 4,
 "nbformat_minor": 2
}
